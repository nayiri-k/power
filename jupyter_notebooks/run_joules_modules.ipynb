{
 "cells": [
  {
   "attachments": {},
   "cell_type": "markdown",
   "metadata": {},
   "source": [
    "### Setup"
   ]
  },
  {
   "cell_type": "code",
   "execution_count": 1,
   "metadata": {},
   "outputs": [],
   "source": [
    "import networkx as nx\n",
    "import json\n",
    "import os\n",
    "import yaml\n",
    "from textwrap import dedent\n",
    "import numpy as np\n",
    "import matplotlib.pyplot as plt"
   ]
  },
  {
   "cell_type": "code",
   "execution_count": 2,
   "metadata": {},
   "outputs": [],
   "source": [
    "exec(open(\"/tools/C/nayiri/power/power-analysis/variables.py\").read())\n",
    "exec(open(f\"{power_analysis_dir}/util.py\").read())"
   ]
  },
  {
   "cell_type": "code",
   "execution_count": 4,
   "metadata": {},
   "outputs": [],
   "source": [
    "rtl = 'RocketConfig'\n",
    "my_w = 'towers'\n",
    "power_level = 'rtl'\n",
    "my_workloads = riscv_benchmarks.copy()\n",
    "my_workloads.remove('mm')\n",
    "my_workloads.remove('rsort')"
   ]
  },
  {
   "attachments": {},
   "cell_type": "markdown",
   "metadata": {},
   "source": [
    "### Run RTL Sim"
   ]
  },
  {
   "cell_type": "code",
   "execution_count": 5,
   "metadata": {},
   "outputs": [
    {
     "name": "stdout",
     "output_type": "stream",
     "text": [
      "export HAMMER_EXTRA_ARGS=\"-p /tools/C/nayiri/power/chipyard-intech16-apr23/vlsi/nk.yml\"  && export BINARY=/tools/B/nayiri/chipyard-tools/riscv-tools-install/riscv64-unknown-elf/share/riscv-tests/benchmarks/dhrystone.riscv && make redo-sim-rtl-debug\n",
      "export HAMMER_EXTRA_ARGS=\"-p /tools/C/nayiri/power/chipyard-intech16-apr23/vlsi/nk.yml\"  && export BINARY=/tools/B/nayiri/chipyard-tools/riscv-tools-install/riscv64-unknown-elf/share/riscv-tests/benchmarks/median.riscv && make redo-sim-rtl-debug\n",
      "export HAMMER_EXTRA_ARGS=\"-p /tools/C/nayiri/power/chipyard-intech16-apr23/vlsi/nk.yml\"  && export BINARY=/tools/B/nayiri/chipyard-tools/riscv-tools-install/riscv64-unknown-elf/share/riscv-tests/benchmarks/mt-matmul.riscv && make redo-sim-rtl-debug\n",
      "export HAMMER_EXTRA_ARGS=\"-p /tools/C/nayiri/power/chipyard-intech16-apr23/vlsi/nk.yml\"  && export BINARY=/tools/B/nayiri/chipyard-tools/riscv-tools-install/riscv64-unknown-elf/share/riscv-tests/benchmarks/mt-vvadd.riscv && make redo-sim-rtl-debug\n",
      "export HAMMER_EXTRA_ARGS=\"-p /tools/C/nayiri/power/chipyard-intech16-apr23/vlsi/nk.yml\"  && export BINARY=/tools/B/nayiri/chipyard-tools/riscv-tools-install/riscv64-unknown-elf/share/riscv-tests/benchmarks/multiply.riscv && make redo-sim-rtl-debug\n",
      "export HAMMER_EXTRA_ARGS=\"-p /tools/C/nayiri/power/chipyard-intech16-apr23/vlsi/nk.yml\"  && export BINARY=/tools/B/nayiri/chipyard-tools/riscv-tools-install/riscv64-unknown-elf/share/riscv-tests/benchmarks/qsort.riscv && make redo-sim-rtl-debug\n",
      "export HAMMER_EXTRA_ARGS=\"-p /tools/C/nayiri/power/chipyard-intech16-apr23/vlsi/nk.yml\"  && export BINARY=/tools/B/nayiri/chipyard-tools/riscv-tools-install/riscv64-unknown-elf/share/riscv-tests/benchmarks/spmv.riscv && make redo-sim-rtl-debug\n",
      "export HAMMER_EXTRA_ARGS=\"-p /tools/C/nayiri/power/chipyard-intech16-apr23/vlsi/nk.yml\"  && export BINARY=/tools/B/nayiri/chipyard-tools/riscv-tools-install/riscv64-unknown-elf/share/riscv-tests/benchmarks/towers.riscv && make redo-sim-rtl-debug\n",
      "export HAMMER_EXTRA_ARGS=\"-p /tools/C/nayiri/power/chipyard-intech16-apr23/vlsi/nk.yml\"  && export BINARY=/tools/B/nayiri/chipyard-tools/riscv-tools-install/riscv64-unknown-elf/share/riscv-tests/benchmarks/vvadd.riscv && make redo-sim-rtl-debug\n"
     ]
    }
   ],
   "source": [
    "hammer_extra_args = f\"\"\"export HAMMER_EXTRA_ARGS=\"-p {vlsi_dir}/nk.yml\" \"\"\"\n",
    "for w in my_workloads:\n",
    "    binary = f\"export BINARY={workloads[w]['binary_path']}\"\n",
    "    print(f\"{hammer_extra_args} && {binary} && make redo-sim-rtl-debug\")"
   ]
  },
  {
   "attachments": {},
   "cell_type": "markdown",
   "metadata": {},
   "source": [
    "### Parse RTL Sim Waveforms"
   ]
  },
  {
   "cell_type": "code",
   "execution_count": 6,
   "metadata": {},
   "outputs": [
    {
     "data": {
      "text/plain": [
       "'\\ncd /tools/C/nayiri/power/power-analysis/fsdb\\n./scripts/print_headers.py\\n./scripts/parse_headers.py\\n./scripts/dump_toggles.py\\n'"
      ]
     },
     "execution_count": 6,
     "metadata": {},
     "output_type": "execute_result"
    }
   ],
   "source": [
    "'''\n",
    "cd /tools/C/nayiri/power/power-analysis/fsdb\n",
    "./scripts/print_headers.py\n",
    "./scripts/parse_headers.py\n",
    "./scripts/dump_toggles.py\n",
    "'''"
   ]
  },
  {
   "attachments": {},
   "cell_type": "markdown",
   "metadata": {},
   "source": [
    "### Get list of module/insts/power"
   ]
  },
  {
   "cell_type": "code",
   "execution_count": 7,
   "metadata": {},
   "outputs": [
    {
     "name": "stdout",
     "output_type": "stream",
     "text": [
      "DiGraph with 758 nodes and 757 edges\n",
      "Graph is a tree? True\n"
     ]
    }
   ],
   "source": [
    "g = nx.DiGraph()\n",
    "\n",
    "top = 'chiptop' # needs to be lowercase\n",
    "\n",
    "tmh = {}\n",
    "tmh_file = f\"{vlsi_dir}/generated-src/chipyard.TestHarness.RocketConfig/top_module_hierarchy.json\"\n",
    "with open(tmh_file, 'r') as f:\n",
    "    tmh = json.load(f)\n",
    "\n",
    "# inst_gnodes_dict = {}\n",
    "\n",
    "root = tmh['instance_name']\n",
    "# only keep DigitalTop (throw out generic IO cells)\n",
    "children = [i for i in tmh['instances'] if i['module_name'] == 'DigitalTop']\n",
    "parent_children = [(root, children)]\n",
    "g.add_node(root, module_name=tmh['module_name'])\n",
    "\n",
    "while parent_children:\n",
    "    parent, children = parent_children.pop()\n",
    "    for child_dict in children:\n",
    "        child = child_dict['instance_name']\n",
    "        child_path = parent+'/'+child\n",
    "\n",
    "        g.add_node(child_path, module_name=child_dict['module_name'])\n",
    "        g.add_edge(parent, child_path)\n",
    "\n",
    "        parent_children.append((child_path, child_dict['instances']))\n",
    "print(g)\n",
    "print('Graph is a tree?', nx.is_tree(g))"
   ]
  },
  {
   "cell_type": "code",
   "execution_count": 8,
   "metadata": {},
   "outputs": [
    {
     "data": {
      "text/plain": [
       "'\\nexecute parse_module_tree.ipynb\\n'"
      ]
     },
     "execution_count": 8,
     "metadata": {},
     "output_type": "execute_result"
    }
   ],
   "source": [
    "'''\n",
    "execute parse_module_tree.ipynb\n",
    "'''"
   ]
  },
  {
   "attachments": {},
   "cell_type": "markdown",
   "metadata": {},
   "source": [
    "### Create dict of module/insts/power"
   ]
  },
  {
   "cell_type": "code",
   "execution_count": 10,
   "metadata": {},
   "outputs": [],
   "source": [
    "# largest_insts = []\n",
    "# largest_modules = set()\n",
    "module_inst_dict = {}  # {module: inst}\n",
    "inst_module_dict = {}  # {inst: module}\n",
    "infile = f\"{power_analysis_dir}/out/module_power.rpt\"\n",
    "with open(infile,'r') as f:\n",
    "    lines = f.readlines()\n",
    "for line in lines[1:]:\n",
    "    words = line.split()\n",
    "    if len(words) != 3: continue\n",
    "    power = float(words[0])\n",
    "    module = words[1]\n",
    "    inst = words[2]\n",
    "    if module not in module_inst_dict: \n",
    "        module_inst_dict[module] = {}\n",
    "        module_inst_dict[module]['power'] = power\n",
    "        module_inst_dict[module]['insts'] = []\n",
    "    module_inst_dict[module]['insts'].append(inst)\n",
    "    inst_module_dict[inst] = module"
   ]
  },
  {
   "cell_type": "code",
   "execution_count": 11,
   "metadata": {},
   "outputs": [],
   "source": [
    "tmh = {}\n",
    "tmh_file = f\"{vlsi_dir}/generated-src/chipyard.TestHarness.RocketConfig/top_module_hierarchy.json\"\n",
    "with open(tmh_file, 'r') as f:\n",
    "    tmh = json.load(f)\n",
    "root = tmh['instance_name']\n",
    "inst_module_dict = {root: root}\n",
    "# only keep DigitalTop (throw out generic IO cells)\n",
    "children = [i for i in tmh['instances'] if i['module_name'] == 'DigitalTop']\n",
    "parent_children = [(root, children)]\n",
    "while parent_children:\n",
    "    parent, children = parent_children.pop()\n",
    "    for child_dict in children:\n",
    "        child = child_dict['instance_name']\n",
    "        child_path = parent+'/'+child\n",
    "        inst_module_dict[child_path] = child_dict['module_name']\n",
    "        parent_children.append((child_path, child_dict['instances']))"
   ]
  },
  {
   "attachments": {},
   "cell_type": "markdown",
   "metadata": {},
   "source": [
    "### Run Hammer + Joules to get per-module power traces\n",
    "Generate Hammer YAML Config + Commands to create one report per module instance, \n",
    "where there may be multiple instances per module"
   ]
  },
  {
   "cell_type": "code",
   "execution_count": 12,
   "metadata": {},
   "outputs": [
    {
     "name": "stdout",
     "output_type": "stream",
     "text": [
      "Wrote script to /tools/C/nayiri/power/chipyard-intech16-apr23/vlsi/run-power.sh\n"
     ]
    }
   ],
   "source": [
    "exec(open(\"/tools/C/nayiri/power/power-analysis/variables.py\").read())\n",
    "\n",
    "script = f\"{vlsi_dir}/run-power.sh\"\n",
    "fscript = open(script, 'w')\n",
    "fscript.write(\"\"\"\\\n",
    "#!/bin/bash\n",
    "set -x #echo on\n",
    "\"\"\")\n",
    "\n",
    "for w in my_workloads:\n",
    "    profile_dir = get_module_profile_dir(w)\n",
    "    waveform_path = get_waveform_path(w)\n",
    "    cfg = {\n",
    "        'power.inputs.saifs': [],\n",
    "        'power.inputs.waveforms': [],\n",
    "        'power.inputs.report_configs': [\n",
    "          {\n",
    "            'waveform_path': waveform_path,\n",
    "            'module': 'chiptop',\n",
    "            'toggle_signal': '/ChipTop/clock_clock',\n",
    "            'start_time': '100ns',\n",
    "            'num_toggles': 100,\n",
    "            'output_formats': [\n",
    "              'report',\n",
    "              'plot_profile'\n",
    "            ]\n",
    "          }\n",
    "        ],\n",
    "        'power.joules.version': '211',\n",
    "        'power.voltus.version': '211_ISR3',\n",
    "        'vlsi.core.power_tool': 'joules'\n",
    "    }\n",
    "    report_cfgs = []\n",
    "\n",
    "    waveform_name = os.path.basename(waveform_path).split('.')[0]\n",
    "    for module in module_inst_dict:\n",
    "        for i,inst in enumerate(module_inst_dict[module]['insts']):\n",
    "            report_cfg = {\n",
    "                'waveform_path': waveform_path,\n",
    "                'inst': inst,\n",
    "                'toggle_signal': '/ChipTop/clock_clock',\n",
    "                'start_time': f'{N_CYCLES}ns',\n",
    "                'num_toggles': N_CYCLES,\n",
    "                'report_name': f'{profile_dir}/module_{module}-inst_{i}-toggles_{N_CYCLES}',\n",
    "                'output_formats': [\n",
    "                'plot_profile'\n",
    "                ]\n",
    "            }\n",
    "            report_cfgs.append(report_cfg.copy())\n",
    "    cfg['power.inputs.report_configs'] += report_cfgs\n",
    "    yaml_config_file = get_hammer_yaml_file(w)\n",
    "    # print(f\"Writing configs to {yaml_config_file}\")\n",
    "    with open(yaml_config_file,'w') as f:\n",
    "        yaml.dump(cfg, f, sort_keys=False)\n",
    "    hammer_extra_args = f\"\"\"export HAMMER_EXTRA_ARGS=\"-p {vlsi_dir}/nk.yml -p {yaml_config_file}\" \"\"\"\n",
    "    cmd = f\"echo {waveform_name} && make redo-power-rtl\"\n",
    "    cmd= f\"\"\"bsub -q bora \"{cmd}\" \"\"\"\n",
    "    to_print = dedent(f\"\"\"\n",
    "    {hammer_extra_args}\n",
    "    {cmd}\n",
    "    \"\"\").strip()\n",
    "    # print(to_print)\n",
    "    fscript.write(to_print)\n",
    "    fscript.write(\"\\nsleep 10\\n\")\n",
    "   \n",
    "fscript.close()\n",
    "print(f\"Wrote script to {script}\")"
   ]
  },
  {
   "attachments": {},
   "cell_type": "markdown",
   "metadata": {},
   "source": [
    "### Get signal names + idcodes within each module\n",
    "NOTE: we currently only get leaf signals, NOT signals nested within another module in an instance\n",
    "```\n",
    "module_inst_dict = {\n",
    "    modA: {\n",
    "        'area': 123,\n",
    "        'insts': [inst0, inst1, ...]\n",
    "        inst0: [\n",
    "            (signal_name, idcode)\n",
    "            ...\n",
    "        ]\n",
    "        inst1: ...\n",
    "    }\n",
    "    modB: ...\n",
    "\n",
    "}\n",
    "```"
   ]
  },
  {
   "cell_type": "code",
   "execution_count": 13,
   "metadata": {},
   "outputs": [],
   "source": [
    "inst_hier = []\n",
    "signal_id_dict = {}\n",
    "id_signal_dict = {}\n",
    "module = ''\n",
    "my_w = 'towers'\n",
    "w_fsdb_idcodes = set(get_fsdb_idcodes(my_w))\n",
    "module_insts_sigids_dict = {m: {} for m in module_inst_dict}\n",
    "with open(get_fsdb_header_path(my_w), 'r') as f:\n",
    "    in_module = False\n",
    "    for line in f.readlines():\n",
    "        words = line.split()\n",
    "        if len(words) < 1: continue\n",
    "        if words[0] == '<Scope>':\n",
    "            name=words[1].replace('name:','')\n",
    "            inst_hier.append(name)\n",
    "            inst = '/'.join(inst_hier).replace('TestDriver/testHarness/chiptop', 'ChipTop')\n",
    "            module = inst_module_dict[inst] if inst in inst_module_dict else \"NONE\"\n",
    "            in_module = module in module_inst_dict\n",
    "            if in_module:\n",
    "                module_insts_sigids_dict[module][inst] = set()\n",
    "        elif words[0] == '<Upscope>':\n",
    "            inst = '/'.join(inst_hier).replace('TestDriver/testHarness/chiptop', 'ChipTop')\n",
    "            module = inst_module_dict[inst] if inst in inst_module_dict else \"NONE\"\n",
    "            in_module = False\n",
    "            inst_hier.pop(-1)\n",
    "        elif words[0] == '<Var>':\n",
    "            if len(words) < 3: continue                \n",
    "            if in_module:\n",
    "                signal=words[1]\n",
    "                idcode=int(words[2])\n",
    "                if idcode not in w_fsdb_idcodes: \n",
    "                    continue\n",
    "                module_insts_sigids_dict[module][inst].add((signal, idcode))"
   ]
  },
  {
   "cell_type": "code",
   "execution_count": 14,
   "metadata": {},
   "outputs": [],
   "source": [
    "module_signal_idcodes_dict = {}\n",
    "for module in module_insts_sigids_dict:\n",
    "    ''' get signals+idcodes for first instance of module\n",
    "        since we need columns to correspond to the same signal\n",
    "        across different time slices\n",
    "    '''\n",
    "    module_insts = list(module_insts_sigids_dict[module].keys())\n",
    "    inst0 = module_insts[0]\n",
    "    signal_idcode_list = module_insts_sigids_dict[module][inst0]\n",
    "    # signals0 = sorted([s for s,_ in signal_idcode_list])\n",
    "    signal_idcode_dict = {s:[id] for s,id in signal_idcode_list}\n",
    "    for inst in module_insts[1:]:\n",
    "        signal_idcode_list = module_insts_sigids_dict[module][inst]\n",
    "        for s,id in signal_idcode_list:\n",
    "            if s in signal_idcode_dict: signal_idcode_dict[s].append(id)\n",
    "            else: print(module, inst, s)\n",
    "    signal_idcode_dict = {s:ids for s,ids in signal_idcode_dict.items() if len(ids) == len(module_insts_sigids_dict[module])}\n",
    "    module_signal_idcodes_dict[module] = signal_idcode_dict.copy()"
   ]
  },
  {
   "cell_type": "code",
   "execution_count": null,
   "metadata": {},
   "outputs": [],
   "source": [
    "exec(open(\"/tools/C/nayiri/power/power-analysis/util.py\").read())\n",
    "toggles, jpower, workload_borders = get_workloads_toggles_jpower(my_workloads)\n",
    "my_workloads = list(workload_borders.keys())\n",
    "toggles.shape, jpower.shape"
   ]
  },
  {
   "cell_type": "code",
   "execution_count": 16,
   "metadata": {},
   "outputs": [
    {
     "data": {
      "text/plain": [
       "29929"
      ]
     },
     "execution_count": 16,
     "metadata": {},
     "output_type": "execute_result"
    }
   ],
   "source": [
    "exec(open(\"/tools/C/nayiri/power/power-analysis/util.py\").read())\n",
    "idcode_idx_dict = {int(idcode):idx for idx,idcode in enumerate(get_fsdb_idcodes(my_w))}\n",
    "len(idcode_idx_dict)"
   ]
  },
  {
   "attachments": {},
   "cell_type": "markdown",
   "metadata": {},
   "source": [
    "### Get toggles for each module"
   ]
  },
  {
   "cell_type": "code",
   "execution_count": 17,
   "metadata": {},
   "outputs": [],
   "source": [
    "module_toggles_dict = {}\n",
    "for module,s_ids in module_signal_idcodes_dict.items():\n",
    "    module_array = np.array(list(s_ids.values()))  # signal idcodes\n",
    "    module_toggles = np.ndarray((0,module_array.shape[0])) # shape = 0 x # signals\n",
    "    # for slice in range(len(module_array[0,:])):\n",
    "    for slice in range(module_array.shape[1]):\n",
    "        slice_idcodes = module_array[:,slice]\n",
    "        slice_idxs = [idcode_idx_dict[id] for id in slice_idcodes if id in idcode_idx_dict]\n",
    "        slice_module_toggles = toggles[:,slice_idxs]\n",
    "        module_toggles = np.concatenate((module_toggles, slice_module_toggles), axis=0)\n",
    "    # print(module_toggles.shape)\n",
    "    module_toggles_dict[module] = module_toggles\n"
   ]
  },
  {
   "cell_type": "code",
   "execution_count": 18,
   "metadata": {},
   "outputs": [
    {
     "name": "stdout",
     "output_type": "stream",
     "text": [
      "TLDebugModuleInner (12220, 641)\n",
      "CSRFile (12220, 901)\n",
      "Rocket (12220, 821)\n",
      "data_arrays_0_ext (12220, 584)\n",
      "ICache (12220, 128)\n",
      "Frontend (12220, 258)\n",
      "SourceD (12220, 219)\n",
      "table_combMem (12220, 522)\n",
      "ShiftQueue (12220, 105)\n",
      "rf_combMem (12220, 45)\n",
      "PTW (12220, 460)\n",
      "ChipTop (12220, 177)\n",
      "BTB (12220, 360)\n",
      "DCache (12220, 1820)\n",
      "ALU (12220, 18)\n",
      "TLXbar (12220, 232)\n",
      "cc_dir_ext (12220, 384)\n",
      "data_combMem_1 (12220, 50)\n",
      "data_arrays_0_0_ext (24440, 294)\n",
      "BankedStore (12220, 109)\n",
      "RVCExpander (12220, 97)\n",
      "GenericSerializer (12220, 26)\n",
      "IBuf (12220, 73)\n",
      "tag_array_ext (12220, 214)\n",
      "TLCacheCork (12220, 151)\n",
      "MSHR (85540, 226)\n",
      "TLToAXI4 (12220, 157)\n",
      "Scheduler (12220, 657)\n",
      "TLAtomicAutomata_1 (12220, 195)\n",
      "SinkA (12220, 60)\n",
      "DigitalTop (12220, 565)\n",
      "ram_combMem_1 (24440, 266)\n",
      "FPU (12220, 186)\n",
      "TLB_1 (12220, 828)\n",
      "TLXbar_5 (12220, 287)\n",
      "tag_array_0_ext (12220, 206)\n",
      "GenericDeserializer (12220, 28)\n",
      "ListBuffer (12220, 43)\n",
      "TLXbar_2 (12220, 75)\n",
      "Queue_30 (12220, 27)\n",
      "data_combMem (12220, 43)\n",
      "HellaPeekingArbiter (12220, 126)\n",
      "TLUART (12220, 58)\n",
      "ram_combMem_20 (36660, 12)\n",
      "PMPChecker_2 (12220, 77)\n",
      "AsyncResetSynchronizerPrimitiveShiftReg_d3_i0 (488800, 8)\n",
      "MulDiv (12220, 58)\n",
      "next_combMem_1 (12220, 50)\n",
      "UARTRx (12220, 26)\n",
      "TLAtomicAutomata (12220, 190)\n",
      "TLXbar_6 (12220, 89)\n",
      "SourceC (12220, 67)\n",
      "PeripheryBus_1 (12220, 401)\n",
      "head_combMem_1 (12220, 54)\n",
      "CLINT (12220, 56)\n",
      "HellaCacheArbiter (12220, 80)\n",
      "tail_combMem_1 (12220, 54)\n",
      "Directory (12220, 93)\n",
      "TLXbar_4 (12220, 71)\n",
      "TLXbar_8 (12220, 109)\n",
      "SinkC (12220, 86)\n",
      "NonSyncResetSynchronizerPrimitiveShiftReg_d3 (12220, 7)\n",
      "ram_combMem_6 (61100, 12)\n",
      "ListBuffer_2 (12220, 56)\n",
      "ListBuffer_1 (12220, 35)\n",
      "AsyncQueueSource_2 (12220, 42)\n",
      "MulAddRecFNPipe_1 (12220, 77)\n",
      "AsyncQueueSink_2 (12220, 31)\n",
      "AsyncQueueSink_1 (12220, 38)\n",
      "IntSyncCrossingSource_5 (12220, 7)\n",
      "Atomics (12220, 120)\n",
      "ram_combMem_8 (73320, 12)\n",
      "TLPLIC (12220, 67)\n",
      "IntToFP (12220, 41)\n",
      "cc_banks_0_ext (48880, 90)\n",
      "InclusiveCache (12220, 154)\n",
      "Repeater_3 (12220, 37)\n"
     ]
    }
   ],
   "source": [
    "for m in module_toggles_dict:\n",
    "    print(m, module_toggles_dict[m].shape) #, len(module_jpower_dict[m]))"
   ]
  },
  {
   "cell_type": "code",
   "execution_count": 19,
   "metadata": {},
   "outputs": [],
   "source": [
    "# # add signals of all instances within submodule\n",
    "# # avoid doing this if just top-level signals work!!\n",
    "# instpaths = [n for n in g.nodes if g.out_degree(n) == 0]\n",
    "# while instpaths:\n",
    "#     instpath = instpaths.pop(0)\n",
    "#     if instpath not in inst_module_dict: continue\n",
    "#     module = inst_module_dict[instpath]\n",
    "#     m_toggles = module_toggles_dict[module]\n",
    "#     # if module not in module_insts_sigids_dict: continue\n",
    "#     if module not in module_toggles_dict: continue\n",
    "#     # # print(module, instpath)\n",
    "#     # sigids = module_insts_sigids_dict[module][instpath]\n",
    "#     # for parent_inst, _ in g.in_edges(instpath):\n",
    "#     #     if parent_inst not in inst_module_dict: continue\n",
    "#     #     parent_module = inst_module_dict[parent_inst]\n",
    "#     #     if parent_module not in module_insts_sigids_dict: continue\n",
    "#     #     # print(instpath, parent_inst)\n",
    "#     #     # print(module_insts_sigids_dict[parent_module].keys())\n",
    "#     #     module_insts_sigids_dict[parent_module][parent_inst].update(sigids)\n",
    "#     #     instpaths.append(parent_inst)"
   ]
  },
  {
   "attachments": {},
   "cell_type": "markdown",
   "metadata": {},
   "source": [
    "### Get power trace for each module"
   ]
  },
  {
   "cell_type": "code",
   "execution_count": 21,
   "metadata": {},
   "outputs": [],
   "source": [
    "exec(open(\"/tools/C/nayiri/power/power-analysis/util.py\").read())\n",
    "\n",
    "module_jpower_dict = {m: [] for m in module_toggles_dict}\n",
    "\n",
    "cfgs = {}\n",
    "i = 0\n",
    "for w in my_workloads:\n",
    "    with open(get_hammer_yaml_file(w),'r') as f:\n",
    "        cfgs = yaml.safe_load(f)\n",
    "    for report_cfg in cfgs['power.inputs.report_configs']:\n",
    "        if 'inst' not in report_cfg: continue\n",
    "        inst = report_cfg['inst']\n",
    "        module = inst_module_dict[inst]\n",
    "        report_path = report_cfg['report_name'] + '.png.data'\n",
    "        _, w_m_jpower = read_profile_file(w, profile_file=report_path)\n",
    "        len_w_toggles = workload_borders[w][1]-workload_borders[w][0]\n",
    "        if len(w_m_jpower) == 0: continue\n",
    "        if len(w_m_jpower) < len_w_toggles: \n",
    "            print(w, module, f'{len(w_m_jpower)} vs {len_w_toggles}')\n",
    "            continue\n",
    "        assert(len(w_m_jpower) >= len_w_toggles), (w, module, f'{len(w_m_jpower)} vs {len_w_toggles}')\n",
    "        \n",
    "        module_jpower_dict[module] += w_m_jpower[:len_w_toggles]\n",
    "    # print([len(module_jpower_dict[m]) for m in module_jpower_dict if len(module_jpower_dict[m]) > 0])\n",
    "    \n",
    "    # if w in workload_borders: prev_border = workload_borders[w]\n",
    "        \n",
    "# [len(module_jpower_dict[m]) for m in module_jpower_dict if len(module_jpower_dict[m]) > 0]"
   ]
  },
  {
   "cell_type": "code",
   "execution_count": 22,
   "metadata": {},
   "outputs": [
    {
     "data": {
      "text/plain": [
       "[12220,\n",
       " 12220,\n",
       " 12220,\n",
       " 12220,\n",
       " 12220,\n",
       " 12220,\n",
       " 12220,\n",
       " 12220,\n",
       " 12220,\n",
       " 12220,\n",
       " 12220,\n",
       " 12220,\n",
       " 12220,\n",
       " 12220,\n",
       " 12220,\n",
       " 12220,\n",
       " 12220,\n",
       " 12220,\n",
       " 24440,\n",
       " 12220,\n",
       " 12220,\n",
       " 12220,\n",
       " 12220,\n",
       " 12220,\n",
       " 12220,\n",
       " 85540,\n",
       " 12220,\n",
       " 12220,\n",
       " 12220,\n",
       " 12220,\n",
       " 12220,\n",
       " 24440,\n",
       " 12220,\n",
       " 12220,\n",
       " 12220,\n",
       " 12220,\n",
       " 12220,\n",
       " 12220,\n",
       " 12220,\n",
       " 12220,\n",
       " 12220,\n",
       " 12220,\n",
       " 12220,\n",
       " 24440,\n",
       " 12220,\n",
       " 293280,\n",
       " 12220,\n",
       " 12220,\n",
       " 12220,\n",
       " 12220,\n",
       " 12220,\n",
       " 12220,\n",
       " 12220,\n",
       " 12220,\n",
       " 12220,\n",
       " 12220,\n",
       " 12220,\n",
       " 12220,\n",
       " 12220,\n",
       " 12220,\n",
       " 12220,\n",
       " 12220,\n",
       " 24440,\n",
       " 12220,\n",
       " 12220,\n",
       " 12220,\n",
       " 12220,\n",
       " 12220,\n",
       " 12220,\n",
       " 12220,\n",
       " 12220,\n",
       " 12220,\n",
       " 12220,\n",
       " 12220,\n",
       " 48880,\n",
       " 12220,\n",
       " 12220]"
      ]
     },
     "execution_count": 22,
     "metadata": {},
     "output_type": "execute_result"
    }
   ],
   "source": [
    "[len(module_jpower_dict[m]) for m in module_jpower_dict if len(module_jpower_dict[m]) > 0]"
   ]
  },
  {
   "cell_type": "code",
   "execution_count": 23,
   "metadata": {},
   "outputs": [],
   "source": [
    "module_toggles_dict = {m:i for m,i in module_toggles_dict.items() if len(module_jpower_dict[m]) > 0}\n",
    "module_jpower_dict = {m:i for m,i in module_jpower_dict.items() if len(module_jpower_dict[m]) > 0}"
   ]
  },
  {
   "cell_type": "code",
   "execution_count": 24,
   "metadata": {},
   "outputs": [
    {
     "data": {
      "text/plain": [
       "['ChipTop/system/tile_prci_domain/tile_reset_domain_tile/dcache']"
      ]
     },
     "execution_count": 24,
     "metadata": {},
     "output_type": "execute_result"
    }
   ],
   "source": [
    "module_inst_dict['DCache']['insts']"
   ]
  },
  {
   "attachments": {},
   "cell_type": "markdown",
   "metadata": {},
   "source": [
    "#### Dump data to files"
   ]
  },
  {
   "cell_type": "code",
   "execution_count": 25,
   "metadata": {},
   "outputs": [],
   "source": [
    "exec(open(f\"{power_analysis_dir}/util.py\").read())\n",
    "summary_dict = {}\n",
    "summary_dict['workloads'] = my_workloads\n",
    "summary_dict['modules'] = []\n",
    "for m in module_toggles_dict:\n",
    "    np.save(get_module_data_path(m,'toggles'), module_toggles_dict[m])\n",
    "    np.save(get_module_data_path(m,'jpower'),  module_jpower_dict[m])\n",
    "    summary_dict['modules'].append(m)\n",
    "\n",
    "\n",
    "with open(get_module_data_path(type='summary'),'w') as f:\n",
    "    json.dump(summary_dict,f,indent=4)"
   ]
  },
  {
   "attachments": {},
   "cell_type": "markdown",
   "metadata": {},
   "source": [
    "### Fit linear model to each module's data"
   ]
  },
  {
   "cell_type": "code",
   "execution_count": 26,
   "metadata": {},
   "outputs": [
    {
     "data": {
      "text/plain": [
       "dict_keys(['TLDebugModuleInner', 'CSRFile', 'Rocket', 'data_arrays_0_ext', 'ICache', 'Frontend', 'SourceD', 'table_combMem', 'ShiftQueue', 'rf_combMem', 'PTW', 'ChipTop', 'BTB', 'DCache', 'ALU', 'TLXbar', 'cc_dir_ext', 'data_combMem_1', 'data_arrays_0_0_ext', 'BankedStore', 'RVCExpander', 'GenericSerializer', 'IBuf', 'tag_array_ext', 'TLCacheCork', 'MSHR', 'TLToAXI4', 'Scheduler', 'TLAtomicAutomata_1', 'SinkA', 'DigitalTop', 'ram_combMem_1', 'FPU', 'TLB_1', 'TLXbar_5', 'tag_array_0_ext', 'GenericDeserializer', 'ListBuffer', 'TLXbar_2', 'Queue_30', 'data_combMem', 'HellaPeekingArbiter', 'TLUART', 'ram_combMem_20', 'PMPChecker_2', 'AsyncResetSynchronizerPrimitiveShiftReg_d3_i0', 'MulDiv', 'next_combMem_1', 'UARTRx', 'TLAtomicAutomata', 'TLXbar_6', 'SourceC', 'PeripheryBus_1', 'head_combMem_1', 'CLINT', 'HellaCacheArbiter', 'tail_combMem_1', 'Directory', 'TLXbar_4', 'TLXbar_8', 'SinkC', 'NonSyncResetSynchronizerPrimitiveShiftReg_d3', 'ram_combMem_6', 'ListBuffer_2', 'ListBuffer_1', 'AsyncQueueSource_2', 'MulAddRecFNPipe_1', 'AsyncQueueSink_2', 'AsyncQueueSink_1', 'IntSyncCrossingSource_5', 'Atomics', 'ram_combMem_8', 'TLPLIC', 'IntToFP', 'cc_banks_0_ext', 'InclusiveCache', 'Repeater_3'])"
      ]
     },
     "execution_count": 26,
     "metadata": {},
     "output_type": "execute_result"
    }
   ],
   "source": [
    "module_jpower_dict.keys()"
   ]
  },
  {
   "cell_type": "code",
   "execution_count": 37,
   "metadata": {},
   "outputs": [
    {
     "data": {
      "text/plain": [
       "(-1.4932272475979, 6.5967212465)"
      ]
     },
     "execution_count": 37,
     "metadata": {},
     "output_type": "execute_result"
    },
    {
     "data": {
      "image/png": "[encoded data removed]",
      "text/plain": [
       "<Figure size 800x500 with 1 Axes>"
      ]
     },
     "metadata": {},
     "output_type": "display_data"
    }
   ],
   "source": [
    "plt.figure(figsize=(8,5))\n",
    "i = 6\n",
    "plt.xlim(workload_borders[my_workloads[i]])\n",
    "for module in ['Rocket',\n",
    "               'TLDebugModuleInner',\n",
    "               'ICache',\n",
    "               #'ALU',\n",
    "               #'FPU',\n",
    "            #    'MulDiv',\n",
    "               #'CLINT',\n",
    "                'CSRFile',\n",
    "                'BTB',\n",
    "                'PTW',\n",
    "               'tag_array_ext',\n",
    "               'data_arrays_0_ext',\n",
    "               ]:\n",
    "    plt.plot(module_jpower_dict[module], label=module) #, linewidth=2)\n",
    "# plt.xlim(0,35000)\n",
    "plt.legend(loc='upper left')#, bbox_to_anchor=(1,1))\n",
    "plt.xlabel(f'Windows of N Cycles (N={N_CYCLES})')\n",
    "plt.title('Power Consumption of Submodules of Rocket SoC Config')\n",
    "plt.ylabel('Power (mW)')\n",
    "# w = 'median'\n",
    "plt.ylim(top=max(module_jpower_dict['Rocket']))\n",
    "# plt.xlim(workload_borders[w],workload_borders[my_workloads[my_workloads.index(w)+1]])"
   ]
  },
  {
   "cell_type": "code",
   "execution_count": null,
   "metadata": {},
   "outputs": [],
   "source": [
    "import numpy as np\n",
    "import sklearn.linear_model\n",
    "import sklearn.cluster\n",
    "import sklearn.preprocessing\n",
    "import math\n",
    "import matplotlib.pyplot as plt\n",
    "import sklearn.decomposition"
   ]
  },
  {
   "cell_type": "code",
   "execution_count": null,
   "metadata": {},
   "outputs": [
    {
     "name": "stdout",
     "output_type": "stream",
     "text": [
      "0 TLDebugModuleInner      R^2 = 0.0, NRMSE = 3%\n",
      "1 CSRFile                 R^2 = 0.61, NRMSE = 18%\n",
      "2 Rocket                  R^2 = 0.97, NRMSE = 13%\n",
      "3 data_arrays_0_ext       R^2 = 0.92, NRMSE = 50%\n",
      "4 ICache                  R^2 = 0.94, NRMSE = 20%\n",
      "5 Frontend                R^2 = 0.93, NRMSE = 20%\n",
      "6 SourceD                 R^2 = 0.95, NRMSE = 9%\n",
      "7 table_combMem           R^2 = 0.84, NRMSE = 49%\n",
      "8 ShiftQueue              R^2 = 0.98, NRMSE = 12%\n",
      "9 rf_combMem              R^2 = 0.95, NRMSE = 23%\n",
      "10 PTW                     R^2 = 0.79, NRMSE = 2%\n",
      "11 ChipTop                 R^2 = 0.86, NRMSE = 21%\n",
      "12 BTB                     R^2 = 0.85, NRMSE = 41%\n",
      "13 DCache                  R^2 = 0.97, NRMSE = 28%\n",
      "14 ALU                     R^2 = 0.97, NRMSE = 23%\n",
      "15 TLXbar                  R^2 = 0.79, NRMSE = 5%\n",
      "16 cc_dir_ext              R^2 = 0.8, NRMSE = 35%\n",
      "17 data_combMem_1          R^2 = 0.74, NRMSE = 38%\n",
      "18 data_arrays_0_0_ext     R^2 = 0.0, NRMSE = 107%\n",
      "19 BankedStore             R^2 = 0.96, NRMSE = 4%\n",
      "20 RVCExpander             R^2 = 0.97, NRMSE = 18%\n",
      "21 GenericSerializer       R^2 = 0.99, NRMSE = 2%\n",
      "22 IBuf                    R^2 = 0.98, NRMSE = 13%\n",
      "23 tag_array_ext           R^2 = 0.77, NRMSE = 102%\n",
      "24 TLCacheCork             R^2 = 0.21, NRMSE = 12%\n",
      "25 MSHR                    R^2 = 0.0, NRMSE = 33%\n",
      "26 TLToAXI4                R^2 = 0.17, NRMSE = 2%\n",
      "27 Scheduler               R^2 = 0.83, NRMSE = 11%\n",
      "28 TLAtomicAutomata_1      R^2 = 0.24, NRMSE = 5%\n",
      "29 SinkA                   R^2 = 0.83, NRMSE = 22%\n",
      "30 DigitalTop              R^2 = 0.86, NRMSE = 20%\n",
      "31 ram_combMem_1           R^2 = 0.0, NRMSE = 3%\n",
      "32 FPU                     R^2 = 0.95, NRMSE = 26%\n",
      "33 TLB_1                   R^2 = 0.29, NRMSE = 111%\n",
      "34 TLXbar_5                R^2 = 0.18, NRMSE = 12%\n",
      "35 tag_array_0_ext         R^2 = 0.6, NRMSE = 57%\n",
      "36 GenericDeserializer     R^2 = 0.97, NRMSE = 4%\n",
      "37 ListBuffer              R^2 = 0.85, NRMSE = 26%\n",
      "38 TLXbar_2                R^2 = 0.0, NRMSE = 2%\n",
      "39 Queue_30                R^2 = 0.53, NRMSE = 35%\n",
      "40 data_combMem            R^2 = 0.91, NRMSE = 7%\n",
      "41 HellaPeekingArbiter     R^2 = 0.89, NRMSE = 2%\n",
      "42 TLUART                  R^2 = 0.22, NRMSE = 18%\n",
      "Skipping ram_combMem_20: 37719 toggles vs 25146 jpower\n",
      "43 PMPChecker_2            R^2 = 0.94, NRMSE = 25%\n",
      "Skipping AsyncResetSynchronizerPrimitiveShiftReg_d3_i0: 502920 toggles vs 301752 jpower\n",
      "44 MulDiv                  R^2 = 0.89, NRMSE = 91%\n",
      "45 next_combMem_1          R^2 = 0.94, NRMSE = 14%\n",
      "46 UARTRx                  R^2 = 0.0, NRMSE = 0%\n",
      "47 TLAtomicAutomata        R^2 = 0.23, NRMSE = 11%\n",
      "48 TLXbar_6                R^2 = 0.1, NRMSE = 15%\n",
      "49 SourceC                 R^2 = 0.24, NRMSE = 27%\n",
      "50 PeripheryBus_1          R^2 = 0.23, NRMSE = 19%\n",
      "51 head_combMem_1          R^2 = 0.97, NRMSE = 10%\n",
      "52 CLINT                   R^2 = 0.85, NRMSE = 86%\n",
      "53 HellaCacheArbiter       R^2 = 0.94, NRMSE = 15%\n",
      "54 tail_combMem_1          R^2 = 0.98, NRMSE = 7%\n",
      "55 Directory               R^2 = 0.75, NRMSE = 33%\n",
      "56 TLXbar_4                R^2 = 0.24, NRMSE = 21%\n",
      "57 TLXbar_8                R^2 = 0.28, NRMSE = 22%\n",
      "58 SinkC                   R^2 = 0.17, NRMSE = 83%\n",
      "59 NonSyncResetSynchronizerPrimitiveShiftReg_d3  R^2 = 0.0, NRMSE = 0%\n",
      "Skipping ram_combMem_6: 62865 toggles vs 25146 jpower\n",
      "60 ListBuffer_2            R^2 = 0.42, NRMSE = 34%\n",
      "61 ListBuffer_1            R^2 = 0.06, NRMSE = 110%\n",
      "62 AsyncQueueSource_2      R^2 = 0.0, NRMSE = 0%\n",
      "63 MulAddRecFNPipe_1       R^2 = 0.65, NRMSE = 134%\n",
      "64 AsyncQueueSink_2        R^2 = 0.11, NRMSE = 0%\n",
      "65 AsyncQueueSink_1        R^2 = 0.0, NRMSE = 0%\n",
      "66 IntSyncCrossingSource_5  R^2 = 0.13, NRMSE = 0%\n",
      "67 Atomics                 R^2 = 0.63, NRMSE = 102%\n",
      "Skipping ram_combMem_8: 75438 toggles vs 12573 jpower\n",
      "68 TLPLIC                  R^2 = 0.23, NRMSE = 11%\n",
      "69 IntToFP                 R^2 = 0.45, NRMSE = 54%\n",
      "70 cc_banks_0_ext          R^2 = 0.02, NRMSE = 11%\n",
      "71 InclusiveCache          R^2 = 0.8, NRMSE = 12%\n",
      "72 Repeater_3              R^2 = 0.27, NRMSE = 1%\n"
     ]
    }
   ],
   "source": [
    "exec(open(\"/tools/C/nayiri/power/power-analysis/util.py\").read())\n",
    "i = 0\n",
    "module_regr_dict = {}\n",
    "for module in module_toggles_dict:\n",
    "    m_toggles = module_toggles_dict[module]\n",
    "    m_jpower = module_jpower_dict[module]\n",
    "    # m_toggles, m_jpower = get_workload_toggles_jpower(m_toggles, m_jpower, list(workload_borders.values()), 3)\n",
    "    if m_toggles.shape[0] != len(m_jpower): \n",
    "        print(f\"Skipping {module}: {m_toggles.shape[0]} toggles vs {len(m_jpower)} jpower\")\n",
    "        continue\n",
    "    # scaler_X = sklearn.preprocessing.StandardScaler()\n",
    "    # m_toggles_scaled = scaler_X.fit_transform(m_toggles)\n",
    "    pca = sklearn.decomposition.PCA(n_components=min(50,m_toggles.shape[1]))\n",
    "    m_toggles_s = pca.fit_transform(m_toggles)\n",
    "    # m_toggles_s = m_toggles_scaled\n",
    "    print(i, module.ljust(22), end='  ')\n",
    "    regr, r2, nrmse = fit(m_toggles_s, m_jpower, type='elasticnetcv',\n",
    "                max_iter=200,\n",
    "                return_r2=True, return_nrmse=True)\n",
    "    module_regr_dict[module] = {}\n",
    "    module_regr_dict[module]['regr'] = regr\n",
    "    module_regr_dict[module]['r2'] = r2\n",
    "    module_regr_dict[module]['nrmse'] = nrmse\n",
    "    module_regr_dict[module]['toggles_s_pca'] = m_toggles_s\n",
    "    # m_power_pred = predict(m_toggles_s, m_jpower, regr)\n",
    "    # plot_power(m_jpower, m_power_pred,\n",
    "    #             workload_borders=workload_borders, \n",
    "    #             y_first=False, title=module)\n",
    "    i += 1\n",
    "    # if i > 30: break\n"
   ]
  },
  {
   "cell_type": "code",
   "execution_count": null,
   "metadata": {},
   "outputs": [
    {
     "ename": "TypeError",
     "evalue": "cannot unpack non-iterable ElasticNetCV object",
     "output_type": "error",
     "traceback": [
      "\u001b[0;31m---------------------------------------------------------------------------\u001b[0m",
      "\u001b[0;31mTypeError\u001b[0m                                 Traceback (most recent call last)",
      "Cell \u001b[0;32mIn[26], line 9\u001b[0m\n\u001b[1;32m      6\u001b[0m m_toggles \u001b[39m=\u001b[39m module_toggles_dict[module]\n\u001b[1;32m      7\u001b[0m m_jpower \u001b[39m=\u001b[39m module_jpower_dict[module]\n\u001b[0;32m----> 9\u001b[0m m_power_pred \u001b[39m=\u001b[39m predict(module_regr_dict[module][\u001b[39m'\u001b[39;49m\u001b[39mtoggles_s_pca\u001b[39;49m\u001b[39m'\u001b[39;49m], m_jpower, regr)\n\u001b[1;32m     10\u001b[0m plot_power(m_jpower, m_power_pred,\n\u001b[1;32m     11\u001b[0m             workload_borders\u001b[39m=\u001b[39mworkload_borders, \n\u001b[1;32m     12\u001b[0m             y_first\u001b[39m=\u001b[39m\u001b[39mFalse\u001b[39;00m, title\u001b[39m=\u001b[39mmodule)\n\u001b[1;32m     13\u001b[0m plt\u001b[39m.\u001b[39mylim(\u001b[39m0\u001b[39m,\u001b[39mmax\u001b[39m(\u001b[39mmax\u001b[39m(m_jpower), \u001b[39m0.1\u001b[39m))\n",
      "File \u001b[0;32m<string>:250\u001b[0m, in \u001b[0;36mpredict\u001b[0;34m(_X, _y, regr_scaler_X_y, degree, print_oneline, return_r2, return_nrmse, verbose)\u001b[0m\n",
      "\u001b[0;31mTypeError\u001b[0m: cannot unpack non-iterable ElasticNetCV object"
     ]
    }
   ],
   "source": [
    "r2_modules = sorted(zip([module_regr_dict[m]['r2'] for m in module_regr_dict], module_regr_dict.keys()))\n",
    "i = 0\n",
    "for _, module in r2_modules:\n",
    "    if 'regr' not in module_regr_dict[module]: continue\n",
    "    regr = module_regr_dict[module]['regr']\n",
    "    m_toggles = module_toggles_dict[module]\n",
    "    m_jpower = module_jpower_dict[module]\n",
    "\n",
    "    m_power_pred = predict(module_regr_dict[module]['toggles_s_pca'], m_jpower, regr)\n",
    "    plot_power(m_jpower, m_power_pred,\n",
    "                workload_borders=workload_borders, \n",
    "                y_first=False, title=module)\n",
    "    plt.ylim(0,max(max(m_jpower), 0.1))\n",
    "    i += 1\n",
    "    if i > 20: break\n"
   ]
  }
 ],
 "metadata": {
  "kernelspec": {
   "display_name": "ml",
   "language": "python",
   "name": "ml"
  },
  "language_info": {
   "codemirror_mode": {
    "name": "ipython",
    "version": 3
   },
   "file_extension": ".py",
   "mimetype": "text/x-python",
   "name": "python",
   "nbconvert_exporter": "python",
   "pygments_lexer": "ipython3",
   "version": "3.10.9"
  },
  "vscode": {
   "interpreter": {
    "hash": "3f23a240be50d1e318d0342f75c907cb07efe34dfc81201b9d73fc9f7f779105"
   }
  }
 },
 "nbformat": 4,
 "nbformat_minor": 2
}
