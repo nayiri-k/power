{
 "cells": [
  {
   "attachments": {},
   "cell_type": "markdown",
   "metadata": {},
   "source": [
    "### Setup"
   ]
  },
  {
   "cell_type": "code",
   "execution_count": 1,
   "metadata": {},
   "outputs": [],
   "source": [
    "# import networkx as nx\n",
    "import json\n",
    "import os\n",
    "import yaml\n",
    "from textwrap import dedent\n",
    "import numpy as np\n",
    "import matplotlib.pyplot as plt"
   ]
  },
  {
   "cell_type": "code",
   "execution_count": 2,
   "metadata": {},
   "outputs": [],
   "source": [
    "exec(open(\"/tools/C/nayiri/power/scripts/variables.py\").read())\n",
    "exec(open(f\"{scripts_dir}/util.py\").read())"
   ]
  },
  {
   "cell_type": "code",
   "execution_count": 3,
   "metadata": {},
   "outputs": [],
   "source": [
    "exec(open(f\"{scripts_dir}/util.py\").read())\n",
    "\n",
    "my_rtl = 'GemminiRocketConfigWS'\n",
    "my_module = 'Gemmini'\n",
    "power_level = 'rtl'\n",
    "num_toggles = N_CYCLES\n",
    "# my_workloads = ['matmul_os-baremetal', 'matmul_ws-baremetal']\n",
    "# my_workloads = ['tiled_matmul_ws_perf-baremetal']\n",
    "my_workloads = gemmini_tiled_matmul\n",
    "w_data_dict = {w: {'profile_report_name': get_run_name(w,my_rtl,module=my_module,num_toggles=num_toggles)} for w in my_workloads}\n",
    "overwrite = False\n",
    "\n",
    "# opm_signal_configs = add_opms_to_verilog(my_rtl)"
   ]
  },
  {
   "cell_type": "code",
   "execution_count": 4,
   "metadata": {},
   "outputs": [],
   "source": [
    "exec(open(f\"{scripts_dir}/util.py\").read())\n",
    "add_final_cntr_to_verilog(my_rtl)"
   ]
  },
  {
   "attachments": {},
   "cell_type": "markdown",
   "metadata": {},
   "source": [
    "### Run RTL Sim"
   ]
  },
  {
   "attachments": {},
   "cell_type": "markdown",
   "metadata": {},
   "source": [
    "#### Commit log"
   ]
  },
  {
   "cell_type": "code",
   "execution_count": 5,
   "metadata": {},
   "outputs": [],
   "source": [
    "exec(open(f\"{scripts_dir}/util.py\").read())\n",
    "print_sim_out_commands(my_workloads,my_rtl,overwrite=overwrite)"
   ]
  },
  {
   "cell_type": "code",
   "execution_count": null,
   "metadata": {},
   "outputs": [],
   "source": []
  },
  {
   "attachments": {},
   "cell_type": "markdown",
   "metadata": {},
   "source": [
    "#### FSDB Waveform"
   ]
  },
  {
   "cell_type": "code",
   "execution_count": 6,
   "metadata": {},
   "outputs": [],
   "source": [
    "\n",
    "print_sim_commands(my_workloads,my_rtl,overwrite=overwrite, overwrite_simv=False)"
   ]
  },
  {
   "attachments": {},
   "cell_type": "markdown",
   "metadata": {},
   "source": [
    "#### Get start times from .out file"
   ]
  },
  {
   "cell_type": "code",
   "execution_count": 7,
   "metadata": {},
   "outputs": [],
   "source": [
    "exec(open(f\"{scripts_dir}/util.py\").read())\n",
    "get_workload_starttimes(my_workloads,my_rtl,module=my_module,d=w_data_dict);"
   ]
  },
  {
   "attachments": {},
   "cell_type": "markdown",
   "metadata": {},
   "source": [
    "### Parse RTL Sim Waveforms"
   ]
  },
  {
   "cell_type": "code",
   "execution_count": 12,
   "metadata": {},
   "outputs": [],
   "source": [
    "exec(open(f\"{scripts_dir}/util.py\").read())\n",
    "print_fsdb_commands(my_workloads,my_rtl,my_module,w_data_dict=w_data_dict, overwrite=False)\n"
   ]
  },
  {
   "attachments": {},
   "cell_type": "markdown",
   "metadata": {},
   "source": [
    "### Run Hammer + Joules\n",
    "Generate Hammer YAML Config + Commands to create one report per waveform"
   ]
  },
  {
   "cell_type": "code",
   "execution_count": 9,
   "metadata": {},
   "outputs": [
    {
     "name": "stdout",
     "output_type": "stream",
     "text": [
      "export HAMMER_EXTRA_ARGS=\"-p /tools/scratch/nayiri/power/chipyard-intech16-sep23/vlsi/nk.yml -p /tools/scratch/nayiri/power/out/yaml_configs/hammer-joules/GemminiRocketConfigWS.yml\" && export BINARY=/tools/C/nayiri/power/gemmini-rocc-tests/build/bareMetalC/tmw-0-0-1-0-0-256-16-256-r-r-0-baremetal && export CONFIG=GemminiRocketConfigWS \n",
      "bsubq \"echo GemminiRocketConfigWS && make redo-power-rtl\"\n"
     ]
    }
   ],
   "source": [
    "exec(open(f\"{scripts_dir}/util.py\").read())\n",
    "print_joules_commands(my_workloads,rtl=my_rtl,module=my_module,w_data_dict=w_data_dict,overwrite=True)\n",
    "\n",
    "# report\n",
    "# print_joules_commands(my_workloads,rtl=my_rtl,w_data_dict=w_data_dict,output_formats=['report'], overwrite=overwrite)\n"
   ]
  },
  {
   "attachments": {},
   "cell_type": "markdown",
   "metadata": {},
   "source": [
    "### Get power traces"
   ]
  },
  {
   "cell_type": "code",
   "execution_count": 13,
   "metadata": {},
   "outputs": [],
   "source": [
    "for w in my_workloads:\n",
    "    profile_file = get_power_filepath(w,my_rtl,module=my_module)\n",
    "    # print(profile_file)\n",
    "    if os.path.exists(profile_file):\n",
    "        cycles,power = read_profile_file(profile_file=profile_file)\n",
    "        w_data_dict[w]['jpower'] = power\n",
    "        w_data_dict[w]['cycles'] = cycles\n",
    "    else:\n",
    "        # print(w)\n",
    "        w_data_dict.pop(w, \"\")"
   ]
  },
  {
   "cell_type": "code",
   "execution_count": 14,
   "metadata": {},
   "outputs": [],
   "source": [
    "for w in w_data_dict:\n",
    "    power = w_data_dict[w]['jpower']\n",
    "    avgpow = sum(power)/len(power)\n",
    "    length = w_data_dict[w]['cycles'][-1] - w_data_dict[w]['cycles'][0]\n",
    "    w_data_dict[w]['avgpow'] = avgpow\n",
    "    w_data_dict[w]['maxpow'] = max(power)\n",
    "    w_data_dict[w]['energy'] = avgpow*length*1e-6 # mW*ns -> mW*s = mJ\n"
   ]
  },
  {
   "cell_type": "code",
   "execution_count": 15,
   "metadata": {},
   "outputs": [
    {
     "ename": "ValueError",
     "evalue": "max() arg is an empty sequence",
     "output_type": "error",
     "traceback": [
      "\u001b[0;31m---------------------------------------------------------------------------\u001b[0m",
      "\u001b[0;31mValueError\u001b[0m                                Traceback (most recent call last)",
      "Cell \u001b[0;32mIn[15], line 3\u001b[0m\n\u001b[1;32m      1\u001b[0m jpower \u001b[39m=\u001b[39m [p \u001b[39mfor\u001b[39;00m w \u001b[39min\u001b[39;00m w_data_dict \u001b[39mfor\u001b[39;00m p \u001b[39min\u001b[39;00m w_data_dict[w][\u001b[39m'\u001b[39m\u001b[39mjpower\u001b[39m\u001b[39m'\u001b[39m]]\n\u001b[0;32m----> 3\u001b[0m plot_power(jpower)\n",
      "File \u001b[0;32m<string>:600\u001b[0m, in \u001b[0;36mplot_power\u001b[0;34m(y, yp, workload_borders, error, x, xp, legend, labels, marker, title, fig, ax, y_first, y_mult)\u001b[0m\n",
      "\u001b[0;31mValueError\u001b[0m: max() arg is an empty sequence"
     ]
    },
    {
     "data": {
      "image/png": "[encoded data removed]",
      "text/plain": [
       "<Figure size 1300x400 with 1 Axes>"
      ]
     },
     "metadata": {},
     "output_type": "display_data"
    }
   ],
   "source": [
    "jpower = [p for w in w_data_dict for p in w_data_dict[w]['jpower']]\n",
    "\n",
    "plot_power(jpower)\n"
   ]
  },
  {
   "cell_type": "code",
   "execution_count": null,
   "metadata": {},
   "outputs": [],
   "source": [
    "\n",
    "\n",
    "\n",
    "\n",
    "\n",
    "\n",
    "\n",
    "\n",
    "\n",
    "\n",
    "\n",
    "\n",
    "\n",
    "\n",
    "\n",
    "\n",
    "\n",
    "\n",
    "\n",
    "\n"
   ]
  },
  {
   "cell_type": "code",
   "execution_count": 10,
   "metadata": {},
   "outputs": [
    {
     "name": "stdout",
     "output_type": "stream",
     "text": [
      "WARNING: file does not exist, /tools/scratch/nayiri/power/chipyard-intech16-sep23/vlsi/build/chipyard.harness.TestHarness.GemminiRocketConfigWS-ChipTop/power-rtl-rundir/plot_profile/tmw-0-0-1-0-0-256-16-256-r-r-0-baremetal.inst-ChipTop-system-tile_prci_domain-tile_reset_domain_tile-gemmini.png.data\n",
      "WARNING: file does not exist, /tools/scratch/nayiri/power/chipyard-intech16-sep23/vlsi/build/chipyard.harness.TestHarness.GemminiRocketConfigWS-ChipTop/power-rtl-rundir/plot_profile/tmw-0-0-1-0-0-64-128-128-0-0-0-baremetal.inst-ChipTop-system-tile_prci_domain-tile_reset_domain_tile-gemmini.png.data\n",
      "WARNING: file does not exist, /tools/scratch/nayiri/power/chipyard-intech16-sep23/vlsi/build/chipyard.harness.TestHarness.GemminiRocketConfigWS-ChipTop/power-rtl-rundir/plot_profile/tmw-0-0-1-0-0-2286-46-9-r-r-0-baremetal.inst-ChipTop-system-tile_prci_domain-tile_reset_domain_tile-gemmini.png.data\n",
      "WARNING: file does not exist, /tools/scratch/nayiri/power/chipyard-intech16-sep23/vlsi/build/chipyard.harness.TestHarness.GemminiRocketConfigWS-ChipTop/power-rtl-rundir/plot_profile/tmw-0-0-1-0-0-2048-16-32-r-r-0-baremetal.inst-ChipTop-system-tile_prci_domain-tile_reset_domain_tile-gemmini.png.data\n",
      "WARNING: file does not exist, /tools/scratch/nayiri/power/chipyard-intech16-sep23/vlsi/build/chipyard.harness.TestHarness.GemminiRocketConfigWS-ChipTop/power-rtl-rundir/plot_profile/tmw-0-0-1-0-0-596-29-60-r-r-0-baremetal.inst-ChipTop-system-tile_prci_domain-tile_reset_domain_tile-gemmini.png.data\n"
     ]
    },
    {
     "ename": "MemoryError",
     "evalue": "Unable to allocate 1.05 TiB for an array with shape (578507442176,) and data type uint16",
     "output_type": "error",
     "traceback": [
      "\u001b[0;31m---------------------------------------------------------------------------\u001b[0m",
      "\u001b[0;31mMemoryError\u001b[0m                               Traceback (most recent call last)",
      "Cell \u001b[0;32mIn[10], line 3\u001b[0m\n\u001b[1;32m      1\u001b[0m exec(\u001b[39mopen\u001b[39m(\u001b[39mf\u001b[39m\u001b[39m\"\u001b[39m\u001b[39m{\u001b[39;00mscripts_dir\u001b[39m}\u001b[39;00m\u001b[39m/util.py\u001b[39m\u001b[39m\"\u001b[39m)\u001b[39m.\u001b[39mread())\n\u001b[0;32m----> 3\u001b[0m toggles, jpower, wb \u001b[39m=\u001b[39m get_workloads_toggles_jpower(my_workloads, my_rtl, module\u001b[39m=\u001b[39;49mmy_module)\n\u001b[1;32m      4\u001b[0m ret_dict \u001b[39m=\u001b[39m apollo(toggles, toggles, jpower, jpower, verbose\u001b[39m=\u001b[39m\u001b[39mTrue\u001b[39;00m)\n",
      "File \u001b[0;32m<string>:176\u001b[0m, in \u001b[0;36mget_workloads_toggles_jpower\u001b[0;34m(workloads, rtl, module, inst, num_toggles, power_level)\u001b[0m\n",
      "File \u001b[0;32m<string>:135\u001b[0m, in \u001b[0;36mread_toggle_bin_file\u001b[0;34m(workload, rtl, module)\u001b[0m\n",
      "\u001b[0;31mMemoryError\u001b[0m: Unable to allocate 1.05 TiB for an array with shape (578507442176,) and data type uint16"
     ]
    }
   ],
   "source": [
    "exec(open(f\"{scripts_dir}/util.py\").read())\n",
    "\n",
    "toggles, jpower, wb = get_workloads_toggles_jpower(my_workloads, my_rtl, module=my_module)\n",
    "ret_dict = apollo(toggles, toggles, jpower, jpower, verbose=True)\n"
   ]
  },
  {
   "cell_type": "code",
   "execution_count": null,
   "metadata": {},
   "outputs": [],
   "source": [
    "dump_opms_to_yaml(my_rtl)"
   ]
  },
  {
   "cell_type": "code",
   "execution_count": null,
   "metadata": {},
   "outputs": [],
   "source": [
    "exec(open(f\"{scripts_dir}/util.py\").read())\n",
    "print_sim_opm_commands(my_workloads,my_rtl,overwrite=overwrite)"
   ]
  }
 ],
 "metadata": {
  "kernelspec": {
   "display_name": "ml",
   "language": "python",
   "name": "ml"
  },
  "language_info": {
   "codemirror_mode": {
    "name": "ipython",
    "version": 3
   },
   "file_extension": ".py",
   "mimetype": "text/x-python",
   "name": "python",
   "nbconvert_exporter": "python",
   "pygments_lexer": "ipython3",
   "version": "3.10.9"
  }
 },
 "nbformat": 4,
 "nbformat_minor": 2
}
